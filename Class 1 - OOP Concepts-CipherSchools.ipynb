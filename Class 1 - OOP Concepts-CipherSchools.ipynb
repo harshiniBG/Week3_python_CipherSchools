#OOP concepts in detail

a = 5
def func():
  pass
type(func)

object
a = 5

isinstance(func, object)

class A:
  name = "harshini"
  marks = 50
type(A)


A = 5
type(A)


class A:
  def __call__(self):
    print("You called me")
a = A()
type(a)
a()

a = {"name": "harshini"}
a["name"]


class Exponent:
  def __init__(self, n):
    self.n = n
  
  def __getitem__(self, x):
    return x ** self.n

e = Exponent(3)
e[6]


class Dog:

  tricks = []
  def __init__(self, name):
    self.name = name
  
  def add_trick(self, trick):
    self.tricks.append(trick)

d1 = Dog("Bruno")
d1.add_trick("fetch")
d1.add_trick("walk")
d1.tricks


d2 = Dog("Maxx")
d2.tricks